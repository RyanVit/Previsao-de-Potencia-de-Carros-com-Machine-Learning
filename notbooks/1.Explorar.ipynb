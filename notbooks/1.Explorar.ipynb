{
 "cells": [
  {
   "cell_type": "code",
   "execution_count": 0,
   "metadata": {
    "application/vnd.databricks.v1+cell": {
     "cellMetadata": {
      "byteLimit": 2048000,
      "rowLimit": 10000
     },
     "inputWidgets": {},
     "nuid": "9931fbeb-b329-476d-a2ae-8a1ea5206e4b",
     "showTitle": false,
     "tableResultSettingsMap": {},
     "title": ""
    }
   },
   "outputs": [],
   "source": [
    ,
    "from pyspark.sql import SparkSession"
   ]
  },
  {
   "cell_type": "code",
   "execution_count": 0,
   "metadata": {
    "application/vnd.databricks.v1+cell": {
     "cellMetadata": {
      "byteLimit": 2048000,
      "rowLimit": 10000
     },
     "inputWidgets": {},
     "nuid": "56097d7d-e31a-4457-a9f5-04a2ed24d5b5",
     "showTitle": false,
     "tableResultSettingsMap": {},
     "title": ""
    }
   },
   "outputs": [
    {
     "output_type": "stream",
     "name": "stdout",
     "output_type": "stream",
     "text": [
      "+-------+---------+-----------+---------------+----+-----+---------+-----------+-------+-----------+---+\n|Consumo|Cilindros|Cilindradas|RelEixoTraseiro|Peso|Tempo|TipoMotor|Transmissao|Marchas|Carburadors| HP|\n+-------+---------+-----------+---------------+----+-----+---------+-----------+-------+-----------+---+\n|     21|        6|        160|             39| 262| 1646|        0|          1|      4|          4|110|\n|     21|        6|        160|             39|2875| 1702|        0|          1|      4|          4|110|\n|    228|        4|        108|            385| 232| 1861|        1|          1|      4|          1| 93|\n|    214|        6|        258|            308|3215| 1944|        1|          0|      3|          1|110|\n|    187|        8|        360|            315| 344| 1702|        0|          0|      3|          2|175|\n+-------+---------+-----------+---------------+----+-----+---------+-----------+-------+-----------+---+\nonly showing top 5 rows\n\n"
     ]
    }
   ],
   "source": [
    
    "# Lendo um arquivo CSV chamado \"Carros-2.csv\" usando o Spark\n",
    "# - header=True: Indica que a primeira linha do arquivo contém os nomes das colunas\n",
    "# - sep=\";\": Define o delimitador como ponto e vírgula (usado em alguns arquivos CSV)\n",
    "# - inferSchema=True: Permite que o Spark detecte automaticamente os tipos de dados de cada coluna\n",
    "carros = spark.read.csv(\"/FileStore/tables/Carros-2.csv\", header=True, sep=\";\",inferSchema=True)\n",
    "carros.show(5)"
   ]
  },
  {
   "cell_type": "code",
   "execution_count": 0,
   "metadata": {
    "application/vnd.databricks.v1+cell": {
     "cellMetadata": {
      "byteLimit": 2048000,
      "rowLimit": 10000
     },
     "collapsed": true,
     "inputWidgets": {},
     "nuid": "06d48a5d-eb90-4f3e-b759-140e6c0e9bb9",
     "showTitle": false,
     "tableResultSettingsMap": {},
     "title": ""
    }
   },
   "outputs": [
    {
     "output_type": "stream",
     "name": "stdout",
     "output_type": "stream",
     "text": [
      "Out[3]: StructType(List(StructField(Consumo,IntegerType,true),StructField(Cilindros,IntegerType,true),StructField(Cilindradas,IntegerType,true),StructField(RelEixoTraseiro,IntegerType,true),StructField(Peso,IntegerType,true),StructField(Tempo,IntegerType,true),StructField(TipoMotor,IntegerType,true),StructField(Transmissao,IntegerType,true),StructField(Marchas,IntegerType,true),StructField(Carburadors,IntegerType,true),StructField(HP,IntegerType,true)))"
     ]
    }
   ],
   "source": [
    "# Exibe o esquema do DataFrame, incluindo os nomes das colunas e seus tipos de dados inferidos\n",
    "carros.schema"
   ]
  },
  {
   "cell_type": "code",
   "execution_count": 0,
   "metadata": {
    "application/vnd.databricks.v1+cell": {
     "cellMetadata": {
      "byteLimit": 2048000,
      "rowLimit": 10000
     },
     "collapsed": true,
     "inputWidgets": {},
     "nuid": "5810956e-a839-4b6c-913d-f98e811911ae",
     "showTitle": false,
     "tableResultSettingsMap": {},
     "title": ""
    }
   },
   "outputs": [
    {
     "output_type": "stream",
     "name": "stdout",
     "output_type": "stream",
     "text": [
      "Out[4]: 32"
     ]
    }
   ],
   "source": [
    "# Conta o número total de registros (linhas) no DataFrame\n",
    "carros.count()"
   ]
  },
  {
   "cell_type": "code",
   "execution_count": 0,
   "metadata": {
    "application/vnd.databricks.v1+cell": {
     "cellMetadata": {
      "byteLimit": 2048000,
      "rowLimit": 10000
     },
     "collapsed": true,
     "inputWidgets": {},
     "nuid": "73dbeefb-ad3c-4ddb-b584-1981eb67720d",
     "showTitle": false,
     "tableResultSettingsMap": {},
     "title": ""
    }
   },
   "outputs": [
    {
     "output_type": "stream",
     "name": "stdout",
     "output_type": "stream",
     "text": [
      "Out[5]: ['Consumo',\n 'Cilindros',\n 'Cilindradas',\n 'RelEixoTraseiro',\n 'Peso',\n 'Tempo',\n 'TipoMotor',\n 'Transmissao',\n 'Marchas',\n 'Carburadors',\n 'HP']"
     ]
    }
   ],
   "source": [
    "# Exibe uma lista com os nomes das colunas do DataFrame\n",
    "carros.columns"
   ]
  },
  {
   "cell_type": "code",
   "execution_count": 0,
   "metadata": {
    "application/vnd.databricks.v1+cell": {
     "cellMetadata": {
      "byteLimit": 2048000,
      "rowLimit": 10000
     },
     "inputWidgets": {},
     "nuid": "7f28353d-56e9-48d4-98d5-7f7e0ea73135",
     "showTitle": false,
     "tableResultSettingsMap": {},
     "title": ""
    }
   },
   "outputs": [
    {
     "output_type": "stream",
     "name": "stdout",
     "output_type": "stream",
     "text": [
      "+-------+---------+\n|Consumo|Cilindros|\n+-------+---------+\n|     21|        6|\n|     21|        6|\n|    228|        4|\n|    214|        6|\n|    187|        8|\n+-------+---------+\nonly showing top 5 rows\n\n"
     ]
    }
   ],
   "source": [
    "# Seleciona apenas as colunas \"Consumo\" e \"Cilindros\" e exibe as 5 primeiras linhas\n",
    "carros.select(\"Consumo\",\"Cilindros\").show(5)"
   ]
  },
  {
   "cell_type": "code",
   "execution_count": 0,
   "metadata": {
    "application/vnd.databricks.v1+cell": {
     "cellMetadata": {
      "byteLimit": 2048000,
      "rowLimit": 10000
     },
     "inputWidgets": {},
     "nuid": "76525701-8a4d-4e6b-bd76-dc6f8ec18cce",
     "showTitle": false,
     "tableResultSettingsMap": {},
     "title": ""
    }
   },
   "outputs": [
    {
     "output_type": "stream",
     "name": "stdout",
     "output_type": "stream",
     "text": [
      "+-------+---------+\n|Consumo|Cilindros|\n+-------+---------+\n|    187|        8|\n|    143|        8|\n|    164|        8|\n|    173|        8|\n|    152|        8|\n|    104|        8|\n|    104|        8|\n|    147|        8|\n|    155|        8|\n|    152|        8|\n|    133|        8|\n|    192|        8|\n|    158|        8|\n|     15|        8|\n+-------+---------+\n\n"
     ]
    }
   ],
   "source": [
    "# Importa a biblioteca de funções do PySpark para manipulação de colunas\n",
    "from pyspark.sql import functions as Func  \n",
    "\n",
    "# Seleciona as colunas \"Consumo\" e \"Cilindros\", filtrando apenas os registros onde \"Cilindros\" é maior que 6\n",
    "carros.select(\"Consumo\", \"Cilindros\").where(Func.col(\"Cilindros\") > 6).show()"
   ]
  },
  {
   "cell_type": "code",
   "execution_count": 0,
   "metadata": {
    "application/vnd.databricks.v1+cell": {
     "cellMetadata": {},
     "inputWidgets": {},
     "nuid": "4e4ae7cd-3f34-4155-8383-64a27b4fb670",
     "showTitle": false,
     "tableResultSettingsMap": {},
     "title": ""
    }
   },
   "outputs": [
    {
     "output_type": "display_data",
     "data": {
      "text/html": [
       "<style scoped>\n",
       "  .ansiout {\n",
       "    display: block;\n",
       "    unicode-bidi: embed;\n",
       "    white-space: pre-wrap;\n",
       "    word-wrap: break-word;\n",
       "    word-break: break-all;\n",
       "    font-family: \"Menlo\", \"Monaco\", \"Consolas\", \"Ubuntu Mono\", \"Source Code Pro\", monospace;\n",
       "    font-size: 13px;\n",
       "    color: #555;\n",
       "    margin-left: 4px;\n",
       "    line-height: 19px;\n",
       "  }\n",
       "</style>"
      ]
     },
     "metadata": {
      "application/vnd.databricks.v1+output": {
       "arguments": {},
       "data": "",
       "errorSummary": "",
       "errorTraceType": null,
       "metadata": {},
       "type": "ipynbError"
      }
     },
     "output_type": "display_data"
    }
   ],
   "source": [
    "# Ordena o DataFrame pela coluna \"HP\" (potência do motor) em ordem crescente e exibe as 5 primeiras linhas\n",
    "carros.orderBy(\"HP\").show(5)"
   ]
  },
  {
   "cell_type": "code",
   "execution_count": 0,
   "metadata": {
    "application/vnd.databricks.v1+cell": {
     "cellMetadata": {},
     "inputWidgets": {},
     "nuid": "457f376a-b163-4c76-8da7-de08e40ff6a1",
     "showTitle": false,
     "tableResultSettingsMap": {},
     "title": ""
    }
   },
   "outputs": [
    {
     "output_type": "display_data",
     "data": {
      "text/html": [
       "<style scoped>\n",
       "  .ansiout {\n",
       "    display: block;\n",
       "    unicode-bidi: embed;\n",
       "    white-space: pre-wrap;\n",
       "    word-wrap: break-word;\n",
       "    word-break: break-all;\n",
       "    font-family: \"Menlo\", \"Monaco\", \"Consolas\", \"Ubuntu Mono\", \"Source Code Pro\", monospace;\n",
       "    font-size: 13px;\n",
       "    color: #555;\n",
       "    margin-left: 4px;\n",
       "    line-height: 19px;\n",
       "  }\n",
       "</style>"
      ]
     },
     "metadata": {
      "application/vnd.databricks.v1+output": {
       "arguments": {},
       "data": "",
       "errorSummary": "",
       "errorTraceType": null,
       "metadata": {},
       "type": "ipynbError"
      }
     },
     "output_type": "display_data"
    }
   ],
   "source": [
    "# Ordena o DataFrame pela coluna \"HP\" (potência do motor) em ordem decrescente e exibe as 5 primeiras linhas\n",
    "carros.orderBy(Func.col(\"HP\").desc()).show(5)"
   ]
  },
  {
   "cell_type": "code",
   "execution_count": 0,
   "metadata": {
    "application/vnd.databricks.v1+cell": {
     "cellMetadata": {
      "byteLimit": 2048000,
      "rowLimit": 10000
     },
     "inputWidgets": {},
     "nuid": "786287b1-3df6-427b-9e37-c9d2abdb9a4c",
     "showTitle": false,
     "tableResultSettingsMap": {},
     "title": ""
    }
   },
   "outputs": [
    {
     "output_type": "stream",
     "name": "stdout",
     "output_type": "stream",
     "text": [
      "+-------+---------+-----------+---------------+----+-----+---------+-----------+-------+-----------+---+------------------+\n|Consumo|Cilindros|Cilindradas|RelEixoTraseiro|Peso|Tempo|TipoMotor|Transmissao|Marchas|Carburadors| HP|     Peso_HP_Ratio|\n+-------+---------+-----------+---------------+----+-----+---------+-----------+-------+-----------+---+------------------+\n|    324|        4|        787|            408|  22| 1947|        1|          1|      4|          1| 66|0.3333333333333333|\n|     15|        8|        301|            354| 357|  146|        0|          1|      5|          8|335|1.0656716417910448|\n|    158|        8|        351|            422| 317|  145|        0|          1|      5|          4|264|1.2007575757575757|\n|    143|        8|        360|            321| 357| 1584|        0|          0|      3|          4|245| 1.457142857142857|\n|    133|        8|        350|            373| 384| 1541|        0|          0|      3|          4|245|1.5673469387755101|\n|    197|        6|        145|            362| 277|  155|        0|          1|      5|          6|175| 1.582857142857143|\n|    187|        8|        360|            315| 344| 1702|        0|          0|      3|          2|175|1.9657142857142857|\n|    173|        8|       2758|            307| 373|  176|        0|          0|      3|          3|180|2.0722222222222224|\n|    152|        8|       2758|            307| 378|   18|        0|          0|      3|          3|180|               2.1|\n+-------+---------+-----------+---------------+----+-----+---------+-----------+-------+-----------+---+------------------+\nonly showing top 9 rows\n\n"
     ]
    }
   ],
   "source": [
    "# Cria uma nova coluna para a relação Peso/HP e exibe os carros com a melhor relação\n",
    "carros.withColumn(\"Peso_HP_Ratio\", Func.col(\"Peso\") / Func.col(\"HP\")).orderBy(\"Peso_HP_Ratio\").show(9)\n"
   ]
  },
  {
   "cell_type": "code",
   "execution_count": 0,
   "metadata": {
    "application/vnd.databricks.v1+cell": {
     "cellMetadata": {
      "byteLimit": 2048000,
      "rowLimit": 10000
     },
     "inputWidgets": {},
     "nuid": "c77c5b43-72af-4cce-922e-a62610642ce2",
     "showTitle": false,
     "tableResultSettingsMap": {},
     "title": ""
    }
   },
   "outputs": [
    {
     "output_type": "stream",
     "name": "stdout",
     "output_type": "stream",
     "text": [
      "+-----------+-------------+\n|Cilindradas|Consumo_Médio|\n+-----------+-------------+\n|        472|        104.0|\n|        108|        228.0|\n|       1201|        215.0|\n|        787|        324.0|\n|       2758|        163.0|\n|        460|        104.0|\n|        350|        133.0|\n|        225|        181.0|\n|        360|        165.0|\n|        711|        339.0|\n|        440|        147.0|\n|       1467|        244.0|\n|        258|        214.0|\n|        318|        155.0|\n|        301|         15.0|\n|        757|        304.0|\n|        400|        192.0|\n|        951|        304.0|\n|        160|         21.0|\n|        121|        214.0|\n+-----------+-------------+\nonly showing top 20 rows\n\n"
     ]
    }
   ],
   "source": [
    "# Agrupa por faixas de cilindradas e calcula a média de consumo\n",
    "carros.groupBy(\"Cilindradas\").agg(Func.avg(\"Consumo\").alias(\"Consumo_Médio\")).show()\n"
   ]
  }
 ],
 "metadata": {
  "application/vnd.databricks.v1+notebook": {
   "computePreferences": null,
   "dashboards": [],
   "environmentMetadata": null,
   "language": "python",
   "notebookMetadata": {
    "pythonIndentUnit": 2
   },
   "notebookName": "1.Explorar",
   "widgets": {}
  }
 },
 "nbformat": 4,
 "nbformat_minor": 0
}
