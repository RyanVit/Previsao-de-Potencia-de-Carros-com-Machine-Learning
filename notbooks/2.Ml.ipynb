{
 "cells": [
  {
   "cell_type": "code",
   "execution_count": 0,
   "metadata": {
    "application/vnd.databricks.v1+cell": {
     "cellMetadata": {
      "byteLimit": 2048000,
      "rowLimit": 10000
     },
     "inputWidgets": {},
     "nuid": "22564f38-debb-4932-b129-6e6fd4c40b43",
     "showTitle": false,
     "tableResultSettingsMap": {},
     "title": ""
    }
   },
   "outputs": [],
   "source": [
    "from pyspark.ml.regression import LinearRegression, RandomForestRegressor\n",
    "from pyspark.ml.evaluation import RegressionEvaluator\n",
    "from pyspark.ml.feature import VectorAssembler"
   ]
  },
  {
   "cell_type": "code",
   "execution_count": 0,
   "metadata": {
    "application/vnd.databricks.v1+cell": {
     "cellMetadata": {
      "byteLimit": 2048000,
      "rowLimit": 10000
     },
     "inputWidgets": {},
     "nuid": "dc52b895-ea64-4865-aeca-196c6e56d80b",
     "showTitle": false,
     "tableResultSettingsMap": {},
     "title": ""
    }
   },
   "outputs": [
    {
     "output_type": "stream",
     "name": "stdout",
     "output_type": "stream",
     "text": [
      "+-------+---------+-----------+---------------+----+-----+---------+-----------+-------+-----------+---+\n|Consumo|Cilindros|Cilindradas|RelEixoTraseiro|Peso|Tempo|TipoMotor|Transmissao|Marchas|Carburadors| HP|\n+-------+---------+-----------+---------------+----+-----+---------+-----------+-------+-----------+---+\n|     21|        6|        160|             39| 262| 1646|        0|          1|      4|          4|110|\n|     21|        6|        160|             39|2875| 1702|        0|          1|      4|          4|110|\n|    228|        4|        108|            385| 232| 1861|        1|          1|      4|          1| 93|\n|    214|        6|        258|            308|3215| 1944|        1|          0|      3|          1|110|\n|    187|        8|        360|            315| 344| 1702|        0|          0|      3|          2|175|\n+-------+---------+-----------+---------------+----+-----+---------+-----------+-------+-----------+---+\nonly showing top 5 rows\n\n"
     ]
    }
   ],
   "source": [
    "# Lendo o arquivo CSV \"Carros-2.csv\" e criando um DataFrame temporário\n",
    "# - inferSchema=True: Permite que o Spark detecte automaticamente os tipos de dados de cada coluna\n",
    "# - header=True: Indica que a primeira linha do arquivo contém os nomes das colunas\n",
    "# - sep=\";\": Define o delimitador como ponto e vírgula (comum em arquivos CSV com dados separados por ponto e vírgula)\n",
    "Carros_temp = spark.read.csv(\"/FileStore/tables/Carros-2.csv\", inferSchema=True, header=True, sep=\";\")\n",
    "\n",
    "# Exibindo as primeiras 5 linhas do DataFrame \"Carros_temp\" para visualização dos dados carregados\n",
    "Carros_temp.show(5)\n"
   ]
  },
  {
   "cell_type": "code",
   "execution_count": 0,
   "metadata": {
    "application/vnd.databricks.v1+cell": {
     "cellMetadata": {
      "byteLimit": 2048000,
      "rowLimit": 10000
     },
     "inputWidgets": {},
     "nuid": "a3fca0a8-08cd-42b9-811e-b6ecdc40bb45",
     "showTitle": false,
     "tableResultSettingsMap": {},
     "title": ""
    }
   },
   "outputs": [
    {
     "output_type": "stream",
     "name": "stdout",
     "output_type": "stream",
     "text": [
      "+-------+---------+-----------+---+\n|Consumo|Cilindros|Cilindradas| HP|\n+-------+---------+-----------+---+\n|     21|        6|        160|110|\n|     21|        6|        160|110|\n|    228|        4|        108| 93|\n|    214|        6|        258|110|\n|    187|        8|        360|175|\n+-------+---------+-----------+---+\nonly showing top 5 rows\n\n"
     ]
    }
   ],
   "source": [
    "# Selecionando as colunas específicas do DataFrame \"Carros_temp\" \n",
    "# e criando um novo DataFrame \"Carros\" com apenas as colunas: \"Consumo\", \"Cilindros\", \"Cilindradas\", e \"HP\"\n",
    "Carros = Carros_temp.select(\"Consumo\", \"Cilindros\", \"Cilindradas\", \"HP\")\n",
    "\n",
    "# Exibindo as primeiras 5 linhas do novo DataFrame \"Carros\" com as colunas selecionadas\n",
    "Carros.show(5)\n"
   ]
  },
  {
   "cell_type": "code",
   "execution_count": 0,
   "metadata": {
    "application/vnd.databricks.v1+cell": {
     "cellMetadata": {
      "byteLimit": 2048000,
      "rowLimit": 10000
     },
     "inputWidgets": {},
     "nuid": "d78cfb1b-876b-4a92-8264-9d5df0207efb",
     "showTitle": false,
     "tableResultSettingsMap": {},
     "title": ""
    }
   },
   "outputs": [
    {
     "output_type": "stream",
     "name": "stdout",
     "output_type": "stream",
     "text": [
      "+-------+---------+-----------+---+-----------------+\n|Consumo|Cilindros|Cilindradas| HP|  caracteristicas|\n+-------+---------+-----------+---+-----------------+\n|     21|        6|        160|110| [21.0,6.0,160.0]|\n|     21|        6|        160|110| [21.0,6.0,160.0]|\n|    228|        4|        108| 93|[228.0,4.0,108.0]|\n|    214|        6|        258|110|[214.0,6.0,258.0]|\n|    187|        8|        360|175|[187.0,8.0,360.0]|\n+-------+---------+-----------+---+-----------------+\nonly showing top 5 rows\n\n"
     ]
    }
   ],
   "source": [
    "# Utilizando o VectorAssembler para transformar as colunas \"Consumo\", \"Cilindros\" e \"Cilindradas\" em um vetor de características\n",
    "# - inputCols: Define as colunas de entrada que serão combinadas em um único vetor\n",
    "# - outputCol: Especifica o nome da nova coluna que conterá o vetor de características resultante\n",
    "veccaracteristicas = VectorAssembler(inputCols=[\"Consumo\", \"Cilindros\", \"Cilindradas\"], outputCol=\"caracteristicas\")\n",
    "\n",
    "# Aplicando a transformação ao DataFrame \"Carros\" e criando a coluna \"caracteristicas\" com o vetor resultante\n",
    "Carros = veccaracteristicas.transform(Carros)\n",
    "\n",
    "# Exibindo as primeiras 5 linhas do DataFrame \"Carros\" com a nova coluna \"caracteristicas\"\n",
    "Carros.show(5)\n"
   ]
  },
  {
   "cell_type": "code",
   "execution_count": 0,
   "metadata": {
    "application/vnd.databricks.v1+cell": {
     "cellMetadata": {
      "byteLimit": 2048000,
      "rowLimit": 10000
     },
     "inputWidgets": {},
     "nuid": "c413c428-f5e8-4d93-b9bf-fd479fd99dcb",
     "showTitle": false,
     "tableResultSettingsMap": {},
     "title": ""
    }
   },
   "outputs": [
    {
     "output_type": "stream",
     "name": "stdout",
     "output_type": "stream",
     "text": [
      "21\n11\n"
     ]
    }
   ],
   "source": [
    "# Dividindo o DataFrame \"Carros\" em dois subconjuntos: treino (70%) e teste (30%)\n",
    "# - randomSplit([0.7, 0.3]): Define a proporção de divisão entre os conjuntos de treino e teste\n",
    "# O método randomSplit divide os dados aleatoriamente de acordo com a proporção especificada\n",
    "CarrosTreino, CarrosTeste = Carros.randomSplit([0.7, 0.3])\n",
    "\n",
    "# Exibindo a quantidade de registros no DataFrame de treino \"CarrosTreino\"\n",
    "print(CarrosTreino.count())\n",
    "\n",
    "# Exibindo a quantidade de registros no DataFrame de teste \"CarrosTeste\"\n",
    "print(CarrosTeste.count())\n"
   ]
  },
  {
   "cell_type": "code",
   "execution_count": 0,
   "metadata": {
    "application/vnd.databricks.v1+cell": {
     "cellMetadata": {},
     "inputWidgets": {},
     "nuid": "7748da9c-02ad-4d61-a371-52ae987633c7",
     "showTitle": false,
     "tableResultSettingsMap": {},
     "title": ""
    }
   },
   "outputs": [
    {
     "output_type": "display_data",
     "data": {
      "text/html": [
       "<style scoped>\n",
       "  .ansiout {\n",
       "    display: block;\n",
       "    unicode-bidi: embed;\n",
       "    white-space: pre-wrap;\n",
       "    word-wrap: break-word;\n",
       "    word-break: break-all;\n",
       "    font-family: \"Menlo\", \"Monaco\", \"Consolas\", \"Ubuntu Mono\", \"Source Code Pro\", monospace;\n",
       "    font-size: 13px;\n",
       "    color: #555;\n",
       "    margin-left: 4px;\n",
       "    line-height: 19px;\n",
       "  }\n",
       "</style>"
      ]
     },
     "metadata": {
      "application/vnd.databricks.v1+output": {
       "arguments": {},
       "data": "",
       "errorSummary": "",
       "errorTraceType": null,
       "metadata": {},
       "type": "ipynbError"
      }
     },
     "output_type": "display_data"
    }
   ],
   "source": [
    "# Definindo o modelo de regressão linear usando a classe LinearRegression\n",
    "# - featuresCol: Especifica a coluna que contém as características de entrada (neste caso, \"caracteristicas\")\n",
    "# - labelCol: Define a coluna que contém o valor alvo ou rótulo (neste caso, \"HP\")\n",
    "reglin = LinearRegression(featuresCol=\"caracteristicas\", labelCol=\"HP\")\n",
    "\n",
    "# Treinando o modelo com o conjunto de dados de treino \"CarrosTreino\"\n",
    "# O modelo ajusta os parâmetros de acordo com os dados de treino\n",
    "modelo = reglin.fit(CarrosTreino)\n"
   ]
  },
  {
   "cell_type": "code",
   "execution_count": 0,
   "metadata": {
    "application/vnd.databricks.v1+cell": {
     "cellMetadata": {},
     "inputWidgets": {},
     "nuid": "6a2eb0da-686a-423f-a6f2-1f6c60a75fb2",
     "showTitle": false,
     "tableResultSettingsMap": {},
     "title": ""
    }
   },
   "outputs": [
    {
     "output_type": "display_data",
     "data": {
      "text/html": [
       "<style scoped>\n",
       "  .ansiout {\n",
       "    display: block;\n",
       "    unicode-bidi: embed;\n",
       "    white-space: pre-wrap;\n",
       "    word-wrap: break-word;\n",
       "    word-break: break-all;\n",
       "    font-family: \"Menlo\", \"Monaco\", \"Consolas\", \"Ubuntu Mono\", \"Source Code Pro\", monospace;\n",
       "    font-size: 13px;\n",
       "    color: #555;\n",
       "    margin-left: 4px;\n",
       "    line-height: 19px;\n",
       "  }\n",
       "</style>"
      ]
     },
     "metadata": {
      "application/vnd.databricks.v1+output": {
       "arguments": {},
       "data": "",
       "errorSummary": "",
       "errorTraceType": null,
       "metadata": {},
       "type": "ipynbError"
      }
     },
     "output_type": "display_data"
    }
   ],
   "source": [
    "# Usando o modelo treinado para fazer previsões no conjunto de teste \"CarrosTeste\"\n",
    "# A transformação aplica o modelo aos dados de teste e gera previsões para o valor da variável \"HP\"\n",
    "previsao = modelo.transform(CarrosTeste)\n",
    "\n",
    "# Exibindo as primeiras 5 linhas do DataFrame \"previsao\" com os resultados da previsão\n",
    "# O DataFrame \"previsao\" agora inclui a coluna \"prediction\" com os valores previstos pelo modelo\n",
    "previsao.show(5)\n"
   ]
  },
  {
   "cell_type": "code",
   "execution_count": 0,
   "metadata": {
    "application/vnd.databricks.v1+cell": {
     "cellMetadata": {},
     "inputWidgets": {},
     "nuid": "84598cff-43a8-452c-b26d-38057063594b",
     "showTitle": false,
     "tableResultSettingsMap": {},
     "title": ""
    }
   },
   "outputs": [
    {
     "output_type": "display_data",
     "data": {
      "text/html": [
       "<style scoped>\n",
       "  .ansiout {\n",
       "    display: block;\n",
       "    unicode-bidi: embed;\n",
       "    white-space: pre-wrap;\n",
       "    word-wrap: break-word;\n",
       "    word-break: break-all;\n",
       "    font-family: \"Menlo\", \"Monaco\", \"Consolas\", \"Ubuntu Mono\", \"Source Code Pro\", monospace;\n",
       "    font-size: 13px;\n",
       "    color: #555;\n",
       "    margin-left: 4px;\n",
       "    line-height: 19px;\n",
       "  }\n",
       "</style>"
      ]
     },
     "metadata": {
      "application/vnd.databricks.v1+output": {
       "arguments": {},
       "data": "",
       "errorSummary": "",
       "errorTraceType": null,
       "metadata": {},
       "type": "ipynbError"
      }
     },
     "output_type": "display_data"
    }
   ],
   "source": [
    "# Avaliando a performance do modelo utilizando o RegressionEvaluator\n",
    "# - predictionCol: Define a coluna que contém as previsões feitas pelo modelo (\"prediction\")\n",
    "# - labelCol: Define a coluna que contém os valores reais (\"HP\")\n",
    "# - metricName='rmse': Define que a métrica a ser calculada é o Root Mean Squared Error (RMSE)\n",
    "avaliar = RegressionEvaluator(predictionCol=\"prediction\", labelCol=\"HP\", metricName='rmse')\n",
    "\n",
    "# Calculando o RMSE (Root Mean Squared Error) no conjunto de previsões \"previsao\"\n",
    "# O RMSE mede a diferença média entre os valores previstos e reais, quanto menor, melhor\n",
    "rmse = avaliar.evaluate(previsao)\n",
    "\n",
    "# Exibindo o valor do RMSE\n",
    "print(rmse)\n"
   ]
  },
  {
   "cell_type": "code",
   "execution_count": 0,
   "metadata": {
    "application/vnd.databricks.v1+cell": {
     "cellMetadata": {},
     "inputWidgets": {},
     "nuid": "4ee1f65a-42be-4428-a10f-d1d7584c6495",
     "showTitle": false,
     "tableResultSettingsMap": {},
     "title": ""
    }
   },
   "outputs": [
    {
     "output_type": "display_data",
     "data": {
      "text/html": [
       "<style scoped>\n",
       "  .ansiout {\n",
       "    display: block;\n",
       "    unicode-bidi: embed;\n",
       "    white-space: pre-wrap;\n",
       "    word-wrap: break-word;\n",
       "    word-break: break-all;\n",
       "    font-family: \"Menlo\", \"Monaco\", \"Consolas\", \"Ubuntu Mono\", \"Source Code Pro\", monospace;\n",
       "    font-size: 13px;\n",
       "    color: #555;\n",
       "    margin-left: 4px;\n",
       "    line-height: 19px;\n",
       "  }\n",
       "</style>"
      ]
     },
     "metadata": {
      "application/vnd.databricks.v1+output": {
       "arguments": {},
       "data": "",
       "errorSummary": "",
       "errorTraceType": null,
       "metadata": {},
       "type": "ipynbError"
      }
     },
     "output_type": "display_data"
    }
   ],
   "source": []
  }
 ],
 "metadata": {
  "application/vnd.databricks.v1+notebook": {
   "computePreferences": null,
   "dashboards": [],
   "environmentMetadata": null,
   "language": "python",
   "notebookMetadata": {
    "pythonIndentUnit": 2
   },
   "notebookName": "2.Ml",
   "widgets": {}
  }
 },
 "nbformat": 4,
 "nbformat_minor": 0
}
